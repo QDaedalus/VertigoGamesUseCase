{
 "cells": [
  {
   "cell_type": "code",
   "execution_count": null,
   "metadata": {},
   "outputs": [],
   "source": [
    "import logging\n",
    "import os\n",
    "from dotenv import load_dotenv\n",
    "import psycopg2\n",
    "import psycopg2.extras as extras\n",
    "import pandas as pd\n",
    "import uuid\n",
    "load_dotenv()\n",
    "dbpassword = os.getenv('POSTGRES_PASS')\n",
    "dbuser = os.getenv('POSTGRES_USER')\n",
    "host_ip = os.getenv('HOST')"
   ]
  },
  {
   "cell_type": "code",
   "execution_count": 162,
   "metadata": {},
   "outputs": [],
   "source": [
    "df_clans = pd.read_csv('data/clan_sample_data.csv')"
   ]
  },
  {
   "cell_type": "code",
   "execution_count": 163,
   "metadata": {},
   "outputs": [],
   "source": [
    "def connect_to_db():\n",
    "    \n",
    "    try:\n",
    "        connection = psycopg2.connect(\n",
    "        host=host_ip,\n",
    "        # host=\"127.0.0.1\",\n",
    "        port=\"5432\",\n",
    "        database=\"vertigodb\",\n",
    "        user=dbuser,\n",
    "        password=dbpassword)\n",
    "        logging.info(\"Database connection successful.\")\n",
    "        print(\"Database connection successful.\")\n",
    "        return connection\n",
    "\n",
    "    except Exception as e:\n",
    "        logging.error(f\"Database connection failed:{e}\")\n",
    "        print(f\"Database connection failed: {e}\")\n",
    "        return None\n",
    "\n",
    "\n",
    "def column_filterings(df):\n",
    "    # Date column filtering\n",
    "    df['created_at'] = df['created_at'].astype(str)\n",
    "    date_regex = r'^\\d{4}-\\d{2}-\\d{2}'\n",
    "    df = df[df['created_at'].str.match(date_regex)]\n",
    "    \n",
    "    # Region column filtering\n",
    "    df['region'] = df['region'].astype(str)\n",
    "    # Sadece 2 harfli (ör: 'EU', 'TR') olanları al\n",
    "    region_regex = r'^[A-Za-z]{2}$'\n",
    "    df = df[df['region'].str.match(region_regex)]\n",
    "    return df\n",
    "\n",
    "\n",
    "def execute_values(conn, df, table):\n",
    "    df = df.where(pd.notnull(df), None)\n",
    "    tuples = [tuple(x) for x in df.to_numpy()]\n",
    "    cols = ','.join(list(df.columns))\n",
    "    query = \"INSERT INTO %s(%s) VALUES %%s\" % (table, cols)\n",
    "    cursor = conn.cursor()\n",
    "    try:\n",
    "        extras.execute_values(cursor, query, tuples)\n",
    "        conn.commit()\n",
    "    except (Exception, psycopg2.DatabaseError) as error:\n",
    "        print(\"Error: %s\" % error)\n",
    "        conn.rollback()\n",
    "        cursor.close()\n",
    "        return 1\n",
    "    print(\"execute_values() done\")\n",
    "    cursor.close()"
   ]
  },
  {
   "cell_type": "code",
   "execution_count": 164,
   "metadata": {},
   "outputs": [
    {
     "name": "stderr",
     "output_type": "stream",
     "text": [
      "/var/folders/42/rntxlmpd2wnczlr1hn7mzk6r0000gn/T/ipykernel_25184/921388930.py:28: SettingWithCopyWarning: \n",
      "A value is trying to be set on a copy of a slice from a DataFrame.\n",
      "Try using .loc[row_indexer,col_indexer] = value instead\n",
      "\n",
      "See the caveats in the documentation: https://pandas.pydata.org/pandas-docs/stable/user_guide/indexing.html#returning-a-view-versus-a-copy\n",
      "  df['region'] = df['region'].astype(str)\n"
     ]
    }
   ],
   "source": [
    "df_clans = column_filterings(df_clans)"
   ]
  },
  {
   "cell_type": "code",
   "execution_count": 168,
   "metadata": {},
   "outputs": [
    {
     "name": "stdout",
     "output_type": "stream",
     "text": [
      "Database connection successful.\n",
      "execute_values() done\n"
     ]
    }
   ],
   "source": [
    "connection = connect_to_db()\n",
    "cursor = connection.cursor()\n",
    "create_clans = '''CREATE TABLE IF NOT EXISTS clans(id uuid DEFAULT gen_random_uuid(), name char(20) ,region char(5), created_at TIMESTAMP, PRIMARY KEY (id));'''\n",
    "cursor.execute(create_clans)\n",
    "sql_trunc_clans = \"\"\" TRUNCATE TABLE clans \"\"\"\n",
    "cursor.execute(sql_trunc_clans)\n",
    "execute_values(connection, df_clans, 'clans') \n",
    "connection.commit()\n",
    "cursor.close()"
   ]
  },
  {
   "cell_type": "code",
   "execution_count": null,
   "metadata": {},
   "outputs": [],
   "source": [
    "def get_clan_id(name, region):\n",
    "    connection = connect_to_db()\n",
    "    cursor = connection.cursor()\n",
    "    create_clans = '''SELECT id FROM clans WHERE name = %s AND region = %s;'''\n",
    "    cursor.execute(create_clans, (name, region)) \n",
    "    result = cursor.fetchone()\n",
    "    cursor.close()\n",
    "    connection.close()\n",
    "    return result[0]"
   ]
  },
  {
   "cell_type": "code",
   "execution_count": 178,
   "metadata": {},
   "outputs": [
    {
     "name": "stdout",
     "output_type": "stream",
     "text": [
      "Database connection successful.\n"
     ]
    },
    {
     "data": {
      "text/plain": [
       "'8fea4d89-5283-4864-8f73-190457aeb118'"
      ]
     },
     "execution_count": 178,
     "metadata": {},
     "output_type": "execute_result"
    }
   ],
   "source": [
    "get_clan_id('ali', 'TR')"
   ]
  },
  {
   "cell_type": "code",
   "execution_count": 179,
   "metadata": {},
   "outputs": [
    {
     "name": "stdout",
     "output_type": "stream",
     "text": [
      "Database connection successful.\n"
     ]
    }
   ],
   "source": [
    "\n",
    "connection = connect_to_db()\n",
    "cursor = connection.cursor()\n",
    "select_query = \"SELECT DISTINCT(name) FROM clans\"\n",
    "cursor.execute(select_query)\n",
    "clan_list = cursor.fetchall()\n"
   ]
  },
  {
   "cell_type": "code",
   "execution_count": 193,
   "metadata": {},
   "outputs": [
    {
     "data": {
      "text/plain": [
       "('EchoReign           ',)"
      ]
     },
     "execution_count": 193,
     "metadata": {},
     "output_type": "execute_result"
    }
   ],
   "source": [
    "clan_list[0]"
   ]
  },
  {
   "cell_type": "code",
   "execution_count": 2,
   "metadata": {},
   "outputs": [
    {
     "data": {
      "text/plain": [
       "False"
      ]
     },
     "execution_count": 2,
     "metadata": {},
     "output_type": "execute_result"
    }
   ],
   "source": [
    "len([1]) == 0"
   ]
  },
  {
   "cell_type": "code",
   "execution_count": 191,
   "metadata": {},
   "outputs": [],
   "source": [
    "clan_list_stripped = [row[0].strip() for row in clan_list]"
   ]
  },
  {
   "cell_type": "code",
   "execution_count": 192,
   "metadata": {},
   "outputs": [
    {
     "data": {
      "text/plain": [
       "['EchoReign',\n",
       " 'NightRaiders',\n",
       " 'AshenFury',\n",
       " 'BlightClaw',\n",
       " 'SpecterSquad',\n",
       " 'PulseCore',\n",
       " 'DarkVanguard',\n",
       " 'HexBlades',\n",
       " 'BoneLegion',\n",
       " 'StormPhantom',\n",
       " 'CyberRebels',\n",
       " 'CrimsonFangs',\n",
       " 'ObsidianCircle',\n",
       " 'FireBrand',\n",
       " 'WitchHunters',\n",
       " 'EmberScythe',\n",
       " 'VortexHunters',\n",
       " 'GhostProtocol',\n",
       " 'SteelWolves',\n",
       " 'PhantomRise',\n",
       " 'AbyssOrder',\n",
       " 'IronVultures',\n",
       " 'BloodHawks',\n",
       " 'CrimsonOrder',\n",
       " 'Darklight',\n",
       " 'ShadowReavers',\n",
       " 'NightWatch',\n",
       " 'NullSector',\n",
       " 'ZenithGuard',\n",
       " 'DeadZone',\n",
       " 'NovaSpire',\n",
       " 'SilentStorm',\n",
       " 'GraveSentinels',\n",
       " 'PhantomCore',\n",
       " 'Dustborn',\n",
       " 'IceDrifters',\n",
       " 'DoomWardens',\n",
       " 'NovaRiders',\n",
       " 'IronClaw',\n",
       " 'VoidClan',\n",
       " 'FrostShade',\n",
       " 'AshCoven',\n",
       " 'Voidborn',\n",
       " 'StormLegion',\n",
       " 'WraithUnit',\n",
       " 'TwilightCoven']"
      ]
     },
     "execution_count": 192,
     "metadata": {},
     "output_type": "execute_result"
    }
   ],
   "source": [
    "clan_list_stripped"
   ]
  }
 ],
 "metadata": {
  "kernelspec": {
   "display_name": "base",
   "language": "python",
   "name": "python3"
  },
  "language_info": {
   "codemirror_mode": {
    "name": "ipython",
    "version": 3
   },
   "file_extension": ".py",
   "mimetype": "text/x-python",
   "name": "python",
   "nbconvert_exporter": "python",
   "pygments_lexer": "ipython3",
   "version": "3.12.2"
  },
  "orig_nbformat": 4
 },
 "nbformat": 4,
 "nbformat_minor": 2
}
